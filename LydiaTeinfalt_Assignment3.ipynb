{
  "nbformat": 4,
  "nbformat_minor": 0,
  "metadata": {
    "colab": {
      "name": "LydiaTeinfalt_Assignment3.ipynb",
      "provenance": [],
      "authorship_tag": "ABX9TyPoDlfAM84vbiuCcGfFdS2j",
      "include_colab_link": true
    },
    "kernelspec": {
      "name": "python3",
      "display_name": "Python 3"
    }
  },
  "cells": [
    {
      "cell_type": "markdown",
      "metadata": {
        "id": "view-in-github",
        "colab_type": "text"
      },
      "source": [
        "<a href=\"https://colab.research.google.com/github/lydiateinfalt/DATS6450-ComputerScienceFoundations-Spring2021/blob/master/LydiaTeinfalt_Assignment3.ipynb\" target=\"_parent\"><img src=\"https://colab.research.google.com/assets/colab-badge.svg\" alt=\"Open In Colab\"/></a>"
      ]
    },
    {
      "cell_type": "markdown",
      "metadata": {
        "id": "lFIY9ewnyfqH"
      },
      "source": [
        "Lydia Teinfalt\r\n",
        "Assignment 3 Solution\r\n",
        "DATS 6450 Spring 2021\r\n"
      ]
    },
    {
      "cell_type": "code",
      "metadata": {
        "colab": {
          "base_uri": "https://localhost:8080/"
        },
        "id": "9KsQkT5Sp6XB",
        "outputId": "25f49aec-123f-4d7d-d2af-d865206a8f32"
      },
      "source": [
        "#Solution Exercise 1\r\n",
        "def num_compare(num1, num2):\r\n",
        "  if num1 > num2:\r\n",
        "    print(\"First is greater\")\r\n",
        "  elif num2 > num1:\r\n",
        "    print(\"Second is greater\")\r\n",
        "  else: \r\n",
        "    print(\"Numbers are equal\")\r\n",
        "\r\n",
        "num_compare(9,99)\r\n",
        "num_compare(-9,99.9)\r\n",
        "num_compare(9.8, 9.7)\r\n",
        "\r\n"
      ],
      "execution_count": 3,
      "outputs": [
        {
          "output_type": "stream",
          "text": [
            "Second is greater\n",
            "Second is greater\n",
            "First is greater\n"
          ],
          "name": "stdout"
        }
      ]
    },
    {
      "cell_type": "code",
      "metadata": {
        "colab": {
          "base_uri": "https://localhost:8080/"
        },
        "id": "H52ZET0xygUm",
        "outputId": "40a3f7fd-270f-40a2-8725-15152c7ea7e7"
      },
      "source": [
        "#Solution Exercise 2\r\n",
        "def multiply_even_nums(l1):\r\n",
        "  sum_product = 1\r\n",
        "  for i in range(0, len(l1)-1):\r\n",
        "    if l1[i] % 2 == 0:\r\n",
        "      sum_product = sum_product * l1[i]\r\n",
        "  return sum_product\r\n",
        "\r\n",
        "test_list = [2,3,4,5,6]\r\n",
        "output = multiply_even_nums(test_list)\r\n",
        "print(\"The input list is {l} and the product of even numbers = {s}\".format(l=test_list, s = output))"
      ],
      "execution_count": 10,
      "outputs": [
        {
          "output_type": "stream",
          "text": [
            "The input list is [2, 3, 4, 5, 6] and the product of even numbers = 8\n"
          ],
          "name": "stdout"
        }
      ]
    },
    {
      "cell_type": "code",
      "metadata": {
        "colab": {
          "base_uri": "https://localhost:8080/"
        },
        "id": "Kg9UmTZg8Jmn",
        "outputId": "3e98f5db-f06e-4965-aacc-3cdfe508c758"
      },
      "source": [
        "#Solution Exercise 3: Write a function that accepts two lists and returns a list of of values in both lists\r\n",
        "\r\n",
        "def list_intersection(l1, l2):\r\n",
        "  return [item for item in l1 if item in l2]\r\n",
        "\r\n",
        "my_list1=['a', 'b', 'z']\r\n",
        "my_list2=['x', 'y', 'z']\r\n",
        "both_list = list_intersection(my_list1, my_list2)\r\n",
        "print(\"The first list is {x}, the second list is {y}, and the list with values in both = {z}\".format(x=my_list1, y= my_list2, z = both_list))\r\n",
        "\r\n",
        "list_n = [1,2,3,'Amir']\r\n",
        "list_m = ['Amir', 5,6,-9,1]\r\n",
        "common_list = list_intersection(list_n, list_m)\r\n",
        "print(\"The first list is {x}, the second list is {y}, and the list with values in both = {z}\".format(x=list_n, y= list_m, z = common_list))"
      ],
      "execution_count": 13,
      "outputs": [
        {
          "output_type": "stream",
          "text": [
            "The first list is ['a', 'b', 'z'], the second list is ['x', 'y', 'z'], and the list with values in both = ['z']\n",
            "The first list is [1, 2, 3, 'Amir'], the second list is ['Amir', 5, 6, -9, 1], and the list with values in both = [1, 'Amir']\n"
          ],
          "name": "stdout"
        }
      ]
    },
    {
      "cell_type": "code",
      "metadata": {
        "id": "-o-CPQEhAFek"
      },
      "source": [
        "#Solution Exercise 4: squareEach(nums) where nums is a list of numbers. Modifies the list by squaring each number.\r\n"
      ],
      "execution_count": null,
      "outputs": []
    }
  ]
}