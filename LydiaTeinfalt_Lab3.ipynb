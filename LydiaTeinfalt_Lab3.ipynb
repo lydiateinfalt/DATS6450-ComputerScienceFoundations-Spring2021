{
 "cells": [
  {
   "cell_type": "code",
   "execution_count": 7,
   "metadata": {},
   "outputs": [
    {
     "name": "stdout",
     "output_type": "stream",
     "text": [
      "Quiz grading program\n",
      "\n",
      "Enter numbers 1-5: 3\n",
      "Grade is C\n"
     ]
    }
   ],
   "source": [
    "# Lydia Teinfalt (DATS 6450)\n",
    "# Lab 3 Solution\n",
    "\n",
    "# Date: 02/01/2021\n",
    "\n",
    "# A CS professor gives 5-point quizzes that are graded on the following scale\n",
    "# 5-A, 4-B,3-C, 2-D, 1-F, 0-F. Write a program that accepts a quiz score as input and prints\n",
    "# out corresponding grade\n",
    "# Problem 1\n",
    "\n",
    "print(\"Quiz grading program\\n\")\n",
    "score=int(input(\"Enter numbers 1-5: \"))\n",
    "l = [\"F\", \"F\", \"D\", \"C\", \"B\", \"A\"]\n",
    "grade=l[score]\n",
    "print(\"Grade is\", grade)\n",
    "\n"
   ]
  },
  {
   "cell_type": "code",
   "execution_count": 2,
   "metadata": {},
   "outputs": [
    {
     "name": "stdout",
     "output_type": "stream",
     "text": [
      "Quiz grading program\n",
      "\n",
      "Enter score (out of 100): 100\n",
      "Grade is A\n"
     ]
    }
   ],
   "source": [
    "# Problem 2\n",
    "# A CS professor gives 100-point exams that are graded on the scale 90-100:A, 80-89:B, 70-\n",
    "# 79:C, 60-69:D, <60:F. Write a program that accepts an exam score as input and prints out\n",
    "# the corresponding grade.\n",
    "print(\"Quiz grading program\\n\")\n",
    "score=int(input(\"Enter score (out of 100): \"))\n",
    "l = 60*\"F\"+10*\"D\"+10*\"C\"+10*\"B\"+11*\"A\"\n",
    "grade=l[score]\n",
    "print(\"Grade is\", grade)\n",
    "\n",
    "\n"
   ]
  },
  {
   "cell_type": "code",
   "execution_count": 31,
   "metadata": {},
   "outputs": [
    {
     "name": "stdout",
     "output_type": "stream",
     "text": [
      "Please enter line of text: Mary had a little lamb\n",
      "mary has 1 vowel(s)\n",
      "had has 1 vowel(s)\n",
      "a has 1 vowel(s)\n",
      "little has 2 vowel(s)\n",
      "lamb has 1 vowel(s)\n",
      "\n",
      "String =  mary had a little lamb\n",
      "5 words analyzed\n"
     ]
    }
   ],
   "source": [
    "# Problem 3\n",
    "# Write a program that analyzes line of text, which is taken as an input form the user. The\n",
    "# program should output the number of vowels each word contains, as well as the number\n",
    "# of words that were analyzed. \n",
    "\n",
    "str = input(\"Please enter line of text: \")\n",
    "str = str.lower()\n",
    "ls = []\n",
    "count = 0\n",
    "for i in str.split():\n",
    "    count += 1\n",
    "    vowel_count = 0\n",
    "    for m in i:\n",
    "        if m in ('a', 'e', 'i', 'o', 'u'):\n",
    "            vowel_count += 1\n",
    "    print(i, \"has\", vowel_count, \"vowel(s)\")\n",
    "\n",
    "print()\n",
    "print(\"String = \", str)\n",
    "print(count, \"words analyzed\")\n"
   ]
  },
  {
   "cell_type": "code",
   "execution_count": 36,
   "metadata": {},
   "outputs": [
    {
     "name": "stdout",
     "output_type": "stream",
     "text": [
      "Analyzing This is test data for DATS 6102 Spring 2021 class\n",
      "this has 1 vowel(s)\n",
      "is has 1 vowel(s)\n",
      "test has 1 vowel(s)\n",
      "data has 2 vowel(s)\n",
      "for has 1 vowel(s)\n",
      "dats has 1 vowel(s)\n",
      "6102 has 0 vowel(s)\n",
      "spring has 1 vowel(s)\n",
      "2021 has 0 vowel(s)\n",
      "class has 1 vowel(s)\n",
      "10 words analyzed\n",
      "This is test data for DATS 6102 Spring 2021 class\n",
      "----------------------------------------------------------------------------------------------------\n",
      "Analyzing in this exercise we are modifying our orgiginal program\n",
      "in has 1 vowel(s)\n",
      "this has 1 vowel(s)\n",
      "exercise has 4 vowel(s)\n",
      "we has 1 vowel(s)\n",
      "are has 2 vowel(s)\n",
      "modifying has 3 vowel(s)\n",
      "our has 2 vowel(s)\n",
      "orgiginal has 4 vowel(s)\n",
      "program has 2 vowel(s)\n",
      "9 words analyzed\n",
      "in this exercise we are modifying our orgiginal program\n",
      "----------------------------------------------------------------------------------------------------\n",
      "Analyzing into a batch version, which is going to to analyze\n",
      "into has 2 vowel(s)\n",
      "a has 1 vowel(s)\n",
      "batch has 1 vowel(s)\n",
      "version, has 3 vowel(s)\n",
      "which has 1 vowel(s)\n",
      "is has 1 vowel(s)\n",
      "going has 2 vowel(s)\n",
      "to has 1 vowel(s)\n",
      "to has 1 vowel(s)\n",
      "analyze has 3 vowel(s)\n",
      "10 words analyzed\n",
      "into a batch version, which is going to to analyze\n",
      "----------------------------------------------------------------------------------------------------\n",
      "Analyzing seires of text lines taht are read from a text input fil\n",
      "seires has 3 vowel(s)\n",
      "of has 1 vowel(s)\n",
      "text has 1 vowel(s)\n",
      "lines has 2 vowel(s)\n",
      "taht has 1 vowel(s)\n",
      "are has 2 vowel(s)\n",
      "read has 2 vowel(s)\n",
      "from has 1 vowel(s)\n",
      "a has 1 vowel(s)\n",
      "text has 1 vowel(s)\n",
      "input has 2 vowel(s)\n",
      "file has 2 vowel(s)\n",
      "12 words analyzed\n",
      "seires of text lines taht are read from a text input fil\n",
      "----------------------------------------------------------------------------------------------------\n",
      "Number of lines analyzed 4\n"
     ]
    }
   ],
   "source": [
    "# Problem 4\n",
    "# Rewrite the above program (Exercise #3) as follows:\n",
    "# a. Analyze series of text lines that are read from a text input file (batch_data.txt)\n",
    "# b. For each line of text, report the line being analyzed and report on how many vowels each word contains\n",
    "# c. Report the number of words that were analyzed (for each line of text)\n",
    "# d. Print the line itself\n",
    "# e. After processing all input lines, report the number of lines that were analyzed\n",
    "\n",
    "def string_analyzer(str1):\n",
    "    str1 = str1.lower()\n",
    "    ls = []\n",
    "    count = 0\n",
    "    for i in str1.split():\n",
    "        count += 1\n",
    "        vowel_count = 0\n",
    "        for m in i:\n",
    "            if m in ('a', 'e', 'i', 'o', 'u'):\n",
    "                vowel_count += 1\n",
    "        print(i, \"has\", vowel_count, \"vowel(s)\")\n",
    "    print(count, \"words analyzed\")\n",
    "\n",
    "\n",
    "testfile = open(\"batch_data.txt\", \"r\")\n",
    "linecount = 0\n",
    "for i in range(4):  \n",
    "    linecount += 1\n",
    "    line = testfile.readline()\n",
    "    print(\"Analyzing\", line[:-1])\n",
    "    string_analyzer(line)\n",
    "    print(line[:-1])\n",
    "    print(\"----\"*25)\n",
    "print(\"Number of lines analyzed\", linecount)\n"
   ]
  },
  {
   "cell_type": "code",
   "execution_count": null,
   "metadata": {},
   "outputs": [],
   "source": []
  }
 ],
 "metadata": {
  "kernelspec": {
   "display_name": "Python 3",
   "language": "python",
   "name": "python3"
  },
  "language_info": {
   "codemirror_mode": {
    "name": "ipython",
    "version": 3
   },
   "file_extension": ".py",
   "mimetype": "text/x-python",
   "name": "python",
   "nbconvert_exporter": "python",
   "pygments_lexer": "ipython3",
   "version": "3.8.5"
  }
 },
 "nbformat": 4,
 "nbformat_minor": 4
}
