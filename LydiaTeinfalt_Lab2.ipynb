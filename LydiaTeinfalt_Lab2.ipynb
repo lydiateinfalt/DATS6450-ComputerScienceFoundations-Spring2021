{
 "cells": [
  {
   "cell_type": "code",
   "execution_count": 1,
   "metadata": {},
   "outputs": [
    {
     "name": "stdout",
     "output_type": "stream",
     "text": [
      "Number of cakes this customer can afford is 12.0\n"
     ]
    }
   ],
   "source": [
    "# Lydia Teinfalt (DATS 6450)\n",
    "# Lab 2 Solution\n",
    "# Problem 1\n",
    "# Date: 01/26/2021\n",
    "# \n",
    "# You are working in a fancy bakery where you are selling cakes for $20.50 each. One of\n",
    "# the customers decides to buy as many cakes as she can. She has $250. Write code to\n",
    "# calculate how many cakes this customer can afford. You can’t sell part of the cake, only\n",
    "# whole \n",
    "cake_price = 20.50\n",
    "total_money = 250\n",
    "num_of_cakes = total_money // cake_price\n",
    "print(\"Number of cakes this customer can afford is\", num_of_cakes)"
   ]
  },
  {
   "cell_type": "code",
   "execution_count": 2,
   "metadata": {},
   "outputs": [
    {
     "name": "stdout",
     "output_type": "stream",
     "text": [
      "Enter radius 12\n",
      "Sphere volume is  7238.229473870882 in cubic units.\n",
      "Sphere area 1809.5573684677208 in square units.\n"
     ]
    }
   ],
   "source": [
    "# Problem 2\n",
    "# Write a program to calculate the volume and surface area of a sphere form its radius,\n",
    "# given as input. The program will ask our users to input the radius of the sphere and\n",
    "# output volume and area. Do not use eval() function.\n",
    "# Hint: Use the following for volume and area:\n",
    "# volume = 4.0/3.0 * math.pi * r**3\n",
    "# area = 4 * math.pi * r**\n",
    "import math\n",
    "\n",
    "def main():\n",
    "    #ask user to enter radius\n",
    "    r=float(input(\"Enter radius \"))\n",
    "    volume = 4.0/3.0 * math.pi * pow(r,3)\n",
    "    area = 4 * math.pi * pow(r, 2)\n",
    "    print(\"Sphere volume is \", volume, \"in cubic units.\")\n",
    "    print(\"Sphere area\", area, \"in square units.\")\n",
    "\n",
    "main()"
   ]
  },
  {
   "cell_type": "code",
   "execution_count": 3,
   "metadata": {},
   "outputs": [
    {
     "name": "stdout",
     "output_type": "stream",
     "text": [
      "street1 and street2 have different names: Main Street Main St\n"
     ]
    }
   ],
   "source": [
    "# Poblem 3 Write a program that assigns the name of two streets to two variables called street1 and\n",
    "# street 2. If the values of the two variables are equal, print the message - These streets\n",
    "# have the same name. Otherwise, print The streets have different names.\n",
    "street1 = \"Main Street\"\n",
    "street2 = \"Main St\"\n",
    "if street1 == street2:\n",
    "    print(\"street1 and street2 have same name:\", street1, street2)\n",
    "else:\n",
    "    print(\"street1 and street2 have different names:\", street1, street2)"
   ]
  },
  {
   "cell_type": "code",
   "execution_count": 5,
   "metadata": {},
   "outputs": [
    {
     "name": "stdout",
     "output_type": "stream",
     "text": [
      "Quiz grading program\n",
      "\n",
      "Enter quiz score: 3\n",
      "Grade is C\n"
     ]
    }
   ],
   "source": [
    "# Problem 4. A professor gives five-point quizzes that are graded on the following scale:\n",
    "# 5-A, 4-B, 3-C, 2-D, 1-F, 0-F\n",
    "# Write a program that accepts a quiz score as an input and uses a decision structure to\n",
    "# calculate the corresponding grade. Write your script as you were planning to import it\n",
    "# in another script.\n",
    "\n",
    "def main():\n",
    "    print(\"Quiz grading program\\n\")\n",
    "    score=int(input(\"Enter quiz score: \"))\n",
    "    grade = calc_quiz_grade(score)\n",
    "    print(\"Grade is\", grade)\n",
    "\n",
    "def calc_quiz_grade(quiz):\n",
    "    if quiz < 1:\n",
    "        return \"F\"\n",
    "    elif quiz == 2:\n",
    "        return \"D\"\n",
    "    elif quiz == 3:\n",
    "        return \"C\"\n",
    "    elif quiz == 4:\n",
    "        return \"B\"\n",
    "    elif quiz == 5:\n",
    "        return \"A\"\n",
    "    else:\n",
    "        return \"Invalid grade\"\n",
    "\n",
    "main()"
   ]
  },
  {
   "cell_type": "code",
   "execution_count": 7,
   "metadata": {},
   "outputs": [
    {
     "name": "stdout",
     "output_type": "stream",
     "text": [
      "Quiz grading program\n",
      "\n",
      "Enter quiz score: 88\n",
      "Grade is B\n"
     ]
    }
   ],
   "source": [
    "# Problem 5. A different professor gives 100-point exams that are graded on the following scale:\n",
    "# 90-100:A, 80-89:B, 70-79:C, 60-69:D, <60:F\n",
    "# Write a program that accepts an exam score as an input and uses a decision structure to\n",
    "# calculate the corresponding grade. Write your script as you were planning to import it in\n",
    "# another script.\n",
    "\n",
    "def main():\n",
    "    print(\"Quiz grading program\\n\")\n",
    "    score = int(input(\"Enter quiz score: \"))\n",
    "    grade = calc_quiz_grade(score)\n",
    "    print(\"Grade is\", grade)\n",
    "\n",
    "\n",
    "def calc_quiz_grade(quiz):\n",
    "    if (quiz < 60):\n",
    "        return \"F\"\n",
    "    elif (quiz < 70):\n",
    "        return \"D\"\n",
    "    elif (quiz < 80):\n",
    "        return \"C\"\n",
    "    elif (quiz < 90):\n",
    "        return \"B\"\n",
    "    elif quiz >= 90:\n",
    "        return \"A\"\n",
    "    else:\n",
    "        return \"Invalid grade\"\n",
    "\n",
    "\n",
    "if __name__ == '__main__':\n",
    "    main()"
   ]
  },
  {
   "cell_type": "code",
   "execution_count": 8,
   "metadata": {},
   "outputs": [
    {
     "name": "stdout",
     "output_type": "stream",
     "text": [
      "Enter hours worked: 41\n",
      "Enter your wage: 12\n",
      "Total wages:  498.0\n"
     ]
    }
   ],
   "source": [
    "# Problem 6. Some companies pay time-and-a-half for any hours worked above 40 in a given week.\n",
    "# Write a program to input the number of hours worked and the hourly rate and calculate\n",
    "# the total wages for the week. Write your script as you were planning to import it in\n",
    "# another script.\n",
    "# Hint: calculate pay for less than 40 hours using: pay = hours * page\n",
    "# Otherwise calculate pay using: pay = 40 * wage + (hours-40) * 1.5 * wage\n",
    "\n",
    "def main():\n",
    "    hours = float(input(\"Enter hours worked: \"))\n",
    "    wage = float(input(\"Enter your wage: \"))\n",
    "    if (hours > 40):\n",
    "        pay = 40 * wage + (hours-40) * 1.5 * wage\n",
    "    else: \n",
    "        pay = hours * wage\n",
    "    print(\"Total wages: \", pay)\n",
    "\n",
    "main()"
   ]
  },
  {
   "cell_type": "code",
   "execution_count": 9,
   "metadata": {},
   "outputs": [
    {
     "name": "stdout",
     "output_type": "stream",
     "text": [
      "Enter number of credits please: 12\n",
      "Class standing is Sophmore\n"
     ]
    }
   ],
   "source": [
    "# Problem 7. One of the universities classifies students according to credits earned. A student with less\n",
    "# than 7 credits is a Freshman. At least 7 credits are required to be a Sophomore, 16 to be\n",
    "# a Junior and 26 to be classified as a Senior. Write a program that calculates class standing\n",
    "# from the number of credits earned.\n",
    "\n",
    "\n",
    "def main():\n",
    "    credit=int(input(\"Enter number of credits please: \"))\n",
    "    if (credit < 7):\n",
    "        cls = \"Freshman\"\n",
    "    elif credit < 16:\n",
    "        cls = \"Sophmore\"\n",
    "    elif credit < 26:\n",
    "        cls = \"Junior\"\n",
    "    else:\n",
    "        cls = \"Senior\"\n",
    "    print(\"Class standing is\", cls)\n",
    "    \n",
    "main()"
   ]
  },
  {
   "cell_type": "code",
   "execution_count": null,
   "metadata": {},
   "outputs": [],
   "source": []
  }
 ],
 "metadata": {
  "kernelspec": {
   "display_name": "Python 3",
   "language": "python",
   "name": "python3"
  },
  "language_info": {
   "codemirror_mode": {
    "name": "ipython",
    "version": 3
   },
   "file_extension": ".py",
   "mimetype": "text/x-python",
   "name": "python",
   "nbconvert_exporter": "python",
   "pygments_lexer": "ipython3",
   "version": "3.8.5"
  }
 },
 "nbformat": 4,
 "nbformat_minor": 4
}
