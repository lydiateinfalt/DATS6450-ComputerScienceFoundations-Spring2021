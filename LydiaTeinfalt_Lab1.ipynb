{
 "cells": [
  {
   "cell_type": "code",
   "execution_count": 2,
   "metadata": {},
   "outputs": [
    {
     "name": "stdout",
     "output_type": "stream",
     "text": [
      "This program converts Celsius temperatures to Fahrenheit\n",
      "\n",
      "What is the Celsius temperature? 29\n",
      "The temperature is 84.2 degrees Fahrenheit.\n"
     ]
    }
   ],
   "source": [
    "# Lydia Teinfalt (DATS 6450)\n",
    "# Lab 1 Solution\n",
    "# Problem 1\n",
    "# convert.py\n",
    "#     A program to convert Celsius temps to Fahrenheit\n",
    "# by: Susan Computewell\n",
    "\n",
    "def main():\n",
    "    print(\"This program converts Celsius temperatures to Fahrenheit\")\n",
    "    print()\n",
    "    celsius = eval(input(\"What is the Celsius temperature? \"))\n",
    "    fahrenheit = 9/5 * celsius + 32\n",
    "    print(\"The temperature is\", fahrenheit, \"degrees Fahrenheit.\")\n",
    "\n",
    "main()"
   ]
  },
  {
   "cell_type": "code",
   "execution_count": 3,
   "metadata": {},
   "outputs": [
    {
     "name": "stdout",
     "output_type": "stream",
     "text": [
      "This program converts Celsius temperatures to Fahrenheit\n",
      "\n",
      "What is the Celsius temperature? 10\n",
      "The temperature is 50.0 degrees Fahrenheit.\n",
      "Press the <Enter> key to quit.\n"
     ]
    }
   ],
   "source": [
    "#Problem 2\n",
    "#Modify convert.py to include input statement at the end of the program so that it\n",
    "#pauses to give user a chance to read the results. Your code would look something like:\n",
    "def main():\n",
    "    print(\"This program converts Celsius temperatures to Fahrenheit\")\n",
    "    print()\n",
    "    celsius = eval(input(\"What is the Celsius temperature? \"))\n",
    "    fahrenheit = 9/5 * celsius + 32\n",
    "    print(\"The temperature is\", fahrenheit, \"degrees Fahrenheit.\")\n",
    "    input(\"Press the <Enter> key to quit.\")\n",
    "\n",
    "main()"
   ]
  },
  {
   "cell_type": "code",
   "execution_count": 6,
   "metadata": {},
   "outputs": [
    {
     "name": "stdout",
     "output_type": "stream",
     "text": [
      "This program computes the average of three exam scores.\n",
      "Enter three scores separated by a comma: 66,77,88\n",
      "The average of the scores is: 77.0\n"
     ]
    }
   ],
   "source": [
    "# Problem 3\n",
    "# avg2.py\n",
    "#   A simple program to average two exam scores  \n",
    "#   Illustrates use of multiple input\n",
    "\n",
    "def main():\n",
    "    print(\"This program computes the average of three exam scores.\")\n",
    "\n",
    "    score1, score2, score3 = eval(input(\"Enter three scores separated by a comma: \"))\n",
    "    average = (score1 + score2 + score3) / 3\n",
    "\n",
    "    print(\"The average of the scores is:\", average)\n",
    "\n",
    "main()"
   ]
  },
  {
   "cell_type": "code",
   "execution_count": 7,
   "metadata": {},
   "outputs": [
    {
     "name": "stdout",
     "output_type": "stream",
     "text": [
      "What is the Celsius temperature? 4\n",
      "The temperature is 39.2 degrees Fahrenheit.\n",
      "What is the Celsius temperature? 5\n",
      "The temperature is 41.0 degrees Fahrenheit.\n",
      "What is the Celsius temperature? 6\n",
      "The temperature is 42.8 degrees Fahrenheit.\n",
      "What is the Celsius temperature? 11\n",
      "The temperature is 51.8 degrees Fahrenheit.\n",
      "What is the Celsius temperature? 11\n",
      "The temperature is 51.8 degrees Fahrenheit.\n"
     ]
    }
   ],
   "source": [
    "# Problem 4\n",
    "# Modify convert.py with a loop so that it executes 5 times before quitting. Each time\n",
    "# through the loop, the program should get another temperature from the user and print\n",
    "# the converted value. \n",
    "\n",
    "def main():\n",
    "    for i in range(5):\n",
    "        celsius = eval(input(\"What is the Celsius temperature? \"))\n",
    "        fahrenheit = 9/5 * celsius + 32\n",
    "        print(\"The temperature is\", fahrenheit, \"degrees Fahrenheit.\")\n",
    "\n",
    "main()"
   ]
  },
  {
   "cell_type": "code",
   "execution_count": 19,
   "metadata": {},
   "outputs": [
    {
     "name": "stdout",
     "output_type": "stream",
     "text": [
      "Celsius    Fahrenheit\n",
      "=====================\n",
      "0          32.0\n",
      "10          50.0\n",
      "20          68.0\n",
      "30          86.0\n",
      "40          104.0\n",
      "50          122.0\n",
      "60          140.0\n",
      "70          158.0\n",
      "80          176.0\n",
      "90          194.0\n",
      "100          212.0\n"
     ]
    }
   ],
   "source": [
    "# Problem 5\n",
    "# Modify convert.py so that it computes and prints a table of Celsius temperatures and\n",
    "# the Fahrenheit equivalents every 10 degrees from 0 C to 100 C.\n",
    "def main():\n",
    "    print(\"Celsius    Fahrenheit\")\n",
    "    print(\"=====================\")\n",
    "    for celsius in range(0, 110, 10):\n",
    "        fahrenheit = 9/5 * celsius + 32\n",
    "        print(celsius, \"        \", fahrenheit)\n",
    "\n",
    "main()"
   ]
  },
  {
   "cell_type": "code",
   "execution_count": 27,
   "metadata": {},
   "outputs": [
    {
     "name": "stdout",
     "output_type": "stream",
     "text": [
      "This program converts kilometers to miles\n",
      "\n",
      "Enter the distance in kilometers: 33\n",
      "The distance is 20.46 miles.\n"
     ]
    }
   ],
   "source": [
    "# Problem 6\n",
    "# Write a program that converts distances measured in kilometers to miles. One kilometer\n",
    "# is approximately 0.62 miles. This is very similar logic to our class example (Fahrenheit to\n",
    "# Celsius)\n",
    "def main():\n",
    "    print(\"This program converts kilometers to miles\")\n",
    "    print()\n",
    "    kms = eval(input(\"Enter the distance in kilometers: \"))\n",
    "    miles = kms * 0.62\n",
    "    print(\"The distance is\", miles, \"miles.\")\n",
    "\n",
    "main()"
   ]
  },
  {
   "cell_type": "code",
   "execution_count": 34,
   "metadata": {},
   "outputs": [
    {
     "name": "stdout",
     "output_type": "stream",
     "text": [
      "This program converts Fahrenheit temperatures to Celsius\n",
      "\n",
      "What is the Fahrenheit temperature? 59\n",
      "The temperature is 15.0 degrees Celsius.\n"
     ]
    }
   ],
   "source": [
    "# Problem 7 Write a program that converts temperatures from Fahrenheit to Celsius. \n",
    "\n",
    "\n",
    "def main():\n",
    "    print(\"This program converts Fahrenheit temperatures to Celsius\")\n",
    "    print()\n",
    "    fahrenheit = eval(input(\"What is the Fahrenheit temperature? \"))\n",
    "    celsius = 5/9 * (fahrenheit - 32)\n",
    "    print(\"The temperature is\", celsius, \"degrees Celsius.\")\n",
    "\n",
    "main()"
   ]
  }
 ],
 "metadata": {
  "kernelspec": {
   "display_name": "Python 3",
   "language": "python",
   "name": "python3"
  },
  "language_info": {
   "codemirror_mode": {
    "name": "ipython",
    "version": 3
   },
   "file_extension": ".py",
   "mimetype": "text/x-python",
   "name": "python",
   "nbconvert_exporter": "python",
   "pygments_lexer": "ipython3",
   "version": "3.8.5"
  }
 },
 "nbformat": 4,
 "nbformat_minor": 4
}
