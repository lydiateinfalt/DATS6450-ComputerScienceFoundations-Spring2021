{
  "nbformat": 4,
  "nbformat_minor": 0,
  "metadata": {
    "colab": {
      "name": "LydiaTeinfalt_Assignment3.ipynb",
      "provenance": [],
      "authorship_tag": "ABX9TyPK4FGTG1okFW1RI0flXp6x",
      "include_colab_link": true
    },
    "kernelspec": {
      "name": "python3",
      "display_name": "Python 3"
    }
  },
  "cells": [
    {
      "cell_type": "markdown",
      "metadata": {
        "id": "view-in-github",
        "colab_type": "text"
      },
      "source": [
        "<a href=\"https://colab.research.google.com/github/lydiateinfalt/DATS6450-ComputerScienceFoundations-Spring2021/blob/master/LydiaTeinfalt_Assignment3.ipynb\" target=\"_parent\"><img src=\"https://colab.research.google.com/assets/colab-badge.svg\" alt=\"Open In Colab\"/></a>"
      ]
    },
    {
      "cell_type": "markdown",
      "metadata": {
        "id": "lFIY9ewnyfqH"
      },
      "source": [
        "Lydia Teinfalt\r\n",
        "Assignment 3 Solution\r\n",
        "DATS 6450 Spring 2021\r\n"
      ]
    },
    {
      "cell_type": "code",
      "metadata": {
        "colab": {
          "base_uri": "https://localhost:8080/"
        },
        "id": "9KsQkT5Sp6XB",
        "outputId": "25f49aec-123f-4d7d-d2af-d865206a8f32"
      },
      "source": [
        "#Solution Exercise 1\r\n",
        "def num_compare(num1, num2):\r\n",
        "  if num1 > num2:\r\n",
        "    print(\"First is greater\")\r\n",
        "  elif num2 > num1:\r\n",
        "    print(\"Second is greater\")\r\n",
        "  else: \r\n",
        "    print(\"Numbers are equal\")\r\n",
        "\r\n",
        "num_compare(9,99)\r\n",
        "num_compare(-9,99.9)\r\n",
        "num_compare(9.8, 9.7)\r\n",
        "\r\n"
      ],
      "execution_count": 3,
      "outputs": [
        {
          "output_type": "stream",
          "text": [
            "Second is greater\n",
            "Second is greater\n",
            "First is greater\n"
          ],
          "name": "stdout"
        }
      ]
    },
    {
      "cell_type": "code",
      "metadata": {
        "colab": {
          "base_uri": "https://localhost:8080/"
        },
        "id": "H52ZET0xygUm",
        "outputId": "96d288c8-c0dd-4e0d-d60e-3eaacafee9b6"
      },
      "source": [
        "def multiply_even_nums(l1):\r\n",
        "  sum_product = 1\r\n",
        "  for i in range(0, len(l1)-1):\r\n",
        "    if l1[i] % 2 == 0:\r\n",
        "      sum_product = sum_product * l1[i]\r\n",
        "  \r\n",
        "print(multiply_even_nums([2,3,4,5,6]))"
      ],
      "execution_count": 7,
      "outputs": [
        {
          "output_type": "stream",
          "text": [
            "None\n"
          ],
          "name": "stdout"
        }
      ]
    }
  ]
}