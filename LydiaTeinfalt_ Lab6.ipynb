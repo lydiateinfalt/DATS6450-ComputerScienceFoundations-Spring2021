{
 "cells": [
  {
   "cell_type": "code",
   "execution_count": 13,
   "metadata": {},
   "outputs": [
    {
     "name": "stdout",
     "output_type": "stream",
     "text": [
      "Please enter an integer: tu\n",
      "You have not entered an integer\n",
      "finish\n"
     ]
    }
   ],
   "source": [
    "# Lab 6 Lydia Teinfalt DATS 6450 Spring 2021 02/23/2021\n",
    "# Exercise 1 Solution \n",
    "\n",
    "def get_integer():\n",
    "    user_input = int(input(\"Please enter an integer: \"))\n",
    "    return user_input\n",
    "\n",
    "def main():\n",
    "    try:\n",
    "        user_integer = get_integer() \n",
    "        print(\"You have entered an integer\")\n",
    "    except ValueError:\n",
    "        print(\"You have not entered an integer\")\n",
    "    except KeyboardInterrupt:\n",
    "         print(\"The program detected keyboard interrupt\")\n",
    "    finally:\n",
    "        print(\"finish\")\n",
    "       \n",
    "\n",
    "main()\n"
   ]
  },
  {
   "cell_type": "code",
   "execution_count": 5,
   "metadata": {},
   "outputs": [],
   "source": [
    "# Solution Exercise 2 - create simple window\n",
    "from graphics import *\n",
    "\n",
    "window_title = \"My Class Window\"\n",
    "window_height = 100\n",
    "window_width = 100\n",
    "\n",
    "win = GraphWin(window_title, window_height, window_width)"
   ]
  },
  {
   "cell_type": "code",
   "execution_count": 6,
   "metadata": {},
   "outputs": [],
   "source": [
    "#Exercise 3 - wait for user to click the mouse and close \n",
    "from graphics import *\n",
    "\n",
    "def main():\n",
    "    window_title = \"My Class Window\"\n",
    "    window_height = 100\n",
    "    window_width = 100\n",
    "    win = GraphWin(window_title, window_height, window_width)\n",
    "    \n",
    "    # wait for user to click the mouse\n",
    "    win.getMouse()\n",
    "    win.close()\n",
    "\n",
    "main()\n"
   ]
  },
  {
   "cell_type": "code",
   "execution_count": 9,
   "metadata": {},
   "outputs": [],
   "source": [
    "#Exercise 4 Solution- create and draw Circle object\n",
    "from graphics import *\n",
    "\n",
    "window_title = \"My Class Window\"\n",
    "window_height = 100\n",
    "window_width = 100\n",
    "win = GraphWin(window_title, window_height, window_width)\n",
    "\n",
    "x = 50\n",
    "y = 35\n",
    "radius = 30\n",
    "p = Point(x,y)\n",
    "    \n",
    "circ = Circle(p, radius)\n",
    "circ.draw(win)\n",
    "    \n",
    "# wait for user to click the mouse\n",
    "win.getMouse()\n",
    "win.close() \n",
    "\n"
   ]
  },
  {
   "cell_type": "code",
   "execution_count": 11,
   "metadata": {},
   "outputs": [],
   "source": [
    "#Exercise 5 Solution - create and draw Rectangle object\n",
    "from graphics import *\n",
    "\n",
    "def main():\n",
    "    window_title = \"My Class Window\"\n",
    "    window_height = 100\n",
    "    window_width = 100\n",
    "    win = GraphWin(window_title, window_height, window_width)\n",
    "    top_left = Point(10,10)\n",
    "    bottom_right = Point(40, 40)\n",
    "    \n",
    "    rect = Rectangle(top_left, bottom_right)\n",
    "    rect.draw(win)\n",
    "    \n",
    "    #wait till user clicks the mouse before closing the window\n",
    "    win.getMouse()\n",
    "    win.close()\n",
    "\n",
    "main()\n"
   ]
  },
  {
   "cell_type": "code",
   "execution_count": 21,
   "metadata": {},
   "outputs": [],
   "source": [
    "#Exercise 6 Solution\n",
    "#Draw a circle of radius 10 centered in a 100x100 window\n",
    "from graphics import *\n",
    "\n",
    "win = GraphWin(\"My Class Window\", 100, 100)\n",
    "\n",
    "# circle of radius 10\n",
    "circ = Circle(Point(50,50), 10)\n",
    "circ.draw(win)\n",
    "    \n",
    "# wait for user to click the mouse\n",
    "win.getMouse()\n",
    "win.close() \n"
   ]
  },
  {
   "cell_type": "code",
   "execution_count": 19,
   "metadata": {},
   "outputs": [],
   "source": [
    "#Exercise 7 Solution - alter this program per Lab 6  guide \n",
    "from graphics import *\n",
    "\n",
    "def main():\n",
    "    win = GraphWin()\n",
    "    shape = Rectangle(Point(50, 50), Point(70,70))\n",
    "    shape.setOutline(\"red\")\n",
    "    shape.setFill(\"red\")\n",
    "    shape.draw(win)\n",
    "    for i in range(10):\n",
    "        p = win.getMouse()\n",
    "        c = shape.getCenter()\n",
    "        dx = p.getX() - c.getX()\n",
    "        dy = p.getY() - c.getY()\n",
    "        shape.move(dx,dy)\n",
    "    Text(Point(80,100), \"Click again to quit\").draw(win)\n",
    "    win.getMouse()\n",
    "    win.close() \n",
    "main()"
   ]
  }
 ],
 "metadata": {
  "kernelspec": {
   "display_name": "Python 3",
   "language": "python",
   "name": "python3"
  },
  "language_info": {
   "codemirror_mode": {
    "name": "ipython",
    "version": 3
   },
   "file_extension": ".py",
   "mimetype": "text/x-python",
   "name": "python",
   "nbconvert_exporter": "python",
   "pygments_lexer": "ipython3",
   "version": "3.8.5"
  }
 },
 "nbformat": 4,
 "nbformat_minor": 2
}
