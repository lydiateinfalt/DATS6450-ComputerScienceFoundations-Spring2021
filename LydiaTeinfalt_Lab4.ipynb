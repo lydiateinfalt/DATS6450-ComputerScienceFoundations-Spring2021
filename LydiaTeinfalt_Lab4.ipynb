{
 "cells": [
  {
   "cell_type": "code",
   "execution_count": null,
   "metadata": {},
   "outputs": [],
   "source": [
    "# Lydia Teinfalt (DATS 6450)\n",
    "# Lab 4 Solution\n",
    "\n",
    "# Date: 02/09/2021"
   ]
  },
  {
   "cell_type": "code",
   "execution_count": 10,
   "metadata": {},
   "outputs": [
    {
     "name": "stdout",
     "output_type": "stream",
     "text": [
      "Hello Lydia\n"
     ]
    }
   ],
   "source": [
    "# Exercise 1 solution\n",
    "# Write a function called testfunc that takes in a name and prints ‘Hello Name’. \n",
    "\n",
    "def testfunc(name):\n",
    "    print(\"Hello {}\".format(name))\n",
    "\n",
    "testfunc(\"Lydia\")"
   ]
  },
  {
   "cell_type": "code",
   "execution_count": 62,
   "metadata": {},
   "outputs": [
    {
     "name": "stdout",
     "output_type": "stream",
     "text": [
      "Hello\n",
      "Goodbye\n"
     ]
    }
   ],
   "source": [
    "# Exercise 2 Solution\n",
    "# Write a function called testfunc2 that takes in three arguments, x, y and z. If z is True, return x.\n",
    "# If z is False, return y. \n",
    "def testfunc2(x,y,z):\n",
    "    if z is True:\n",
    "        return x\n",
    "    else:\n",
    "        return y\n",
    "\n",
    "print(testfunc2(\"Hello\", \"Goodbye\", True))\n",
    "\n",
    "print(testfunc2(\"Hello\", \"Goodbye\", False))"
   ]
  },
  {
   "cell_type": "code",
   "execution_count": 9,
   "metadata": {},
   "outputs": [
    {
     "name": "stdout",
     "output_type": "stream",
     "text": [
      "False\n",
      "True\n"
     ]
    }
   ],
   "source": [
    "# Exercise 3 Solution:\n",
    "# Define a function called mathfunc that takes in two arguments, and returns True if its first value\n",
    "# is greater than the second, False if it is less than or equal to the second.\n",
    "# Invoke this function to demonstrate how it works\n",
    "\n",
    "def mathfunc(x, y):\n",
    "    if x > y:\n",
    "        return True\n",
    "    else:\n",
    "        return False\n",
    "\n",
    "print(mathfunc(1,2))\n",
    "print(mathfunc(4,2))\n",
    "\n"
   ]
  },
  {
   "cell_type": "code",
   "execution_count": 15,
   "metadata": {},
   "outputs": [
    {
     "data": {
      "text/plain": [
       "0.5718400301392076"
      ]
     },
     "execution_count": 15,
     "metadata": {},
     "output_type": "execute_result"
    }
   ],
   "source": [
    "from random import random\n",
    "random()"
   ]
  },
  {
   "cell_type": "code",
   "execution_count": 63,
   "metadata": {},
   "outputs": [
    {
     "name": "stdout",
     "output_type": "stream",
     "text": [
      "TAILS\n"
     ]
    }
   ],
   "source": [
    "# Exercise 4 Solution:\n",
    "# Write a function that will flip a coin. This function will take no inputs and will return either\n",
    "# heads or tails. You would first generate random number zero to one (make it a float) and return\n",
    "# a string (HEADS or TAILS).\n",
    "# Test out random() function on its own to see what kind of output it produces. \n",
    "\n",
    "\n",
    "from random import random\n",
    "\n",
    "def coin_flip():\n",
    "    if random() >= 0.5:\n",
    "        return \"HEADS\"\n",
    "    else:\n",
    "        return\"TAILS\"\n",
    "\n",
    "print(coin_flip())\n",
    "    "
   ]
  },
  {
   "cell_type": "code",
   "execution_count": 64,
   "metadata": {},
   "outputs": [
    {
     "name": "stdout",
     "output_type": "stream",
     "text": [
      "Old MacDonald had a farm, Ee-igh, Ee-igh, Oh!\n",
      "And on that farm he had a cow , Ee-igh, Ee-igh, Oh!\n",
      "With a moo , moo here and a  moo , moo there\n",
      "Here a moo there a  moo  everywhere a  moo , moo .\n",
      "Old MacDonald had a farm, Ee-igh, Ee-igh, Oh!\n",
      "\n",
      "Old MacDonald had a farm, Ee-igh, Ee-igh, Oh!\n",
      "And on that farm he had a dog , Ee-igh, Ee-igh, Oh!\n",
      "With a woof , woof here and a  woof , woof there\n",
      "Here a woof there a  woof  everywhere a  woof , woof .\n",
      "Old MacDonald had a farm, Ee-igh, Ee-igh, Oh!\n",
      "\n"
     ]
    }
   ],
   "source": [
    "# Exercise 5:\n",
    "# Write a program to print the lyrics of the song “Old MacDonald”. Your program should print the\n",
    "# lyrics for the five different animals, similar to the example verse below:\n",
    "# Old MacDonald had a farm, Ee-igh, Ee-igh, Oh!\n",
    "# And on that farm he had a cow, Ee-igh, Ee-igh, Oh!\n",
    "# With a moo, moo here and a moo, moo there.\n",
    "# Here a moo, there a moo, everywhere a moo, moo.\n",
    "# Old McDonald had a farm, Ee-igh, Ee-igh, Oh!\n",
    "\n",
    "def old_macDonald_song(animal, sound):\n",
    "    print(\"Old MacDonald had a farm, Ee-igh, Ee-igh, Oh!\")\n",
    "    print(\"And on that farm he had a\", animal, \", Ee-igh, Ee-igh, Oh!\")\n",
    "    print(\"With a\", sound, \",\", sound, \"here and a \", sound, \",\", sound,  \"there\")\n",
    "    print(\"Here a\", sound, \"there a \", sound, \" everywhere a \", sound, \",\", sound, \".\")\n",
    "    print(\"Old MacDonald had a farm, Ee-igh, Ee-igh, Oh!\")\n",
    "    print()\n",
    "\n",
    "    \n",
    "\n",
    "old_macDonald_song(\"cow\", \"moo\")\n",
    "old_macDonald_song(\"dog\", \"woof\")"
   ]
  },
  {
   "cell_type": "code",
   "execution_count": 60,
   "metadata": {},
   "outputs": [
    {
     "name": "stdout",
     "output_type": "stream",
     "text": [
      "MenDenhall\n",
      "TeiNfalt\n"
     ]
    }
   ],
   "source": [
    "# Exercise 6 solution\n",
    "# Write a function that capitalizes the first and fourth letters of a name. When you pass the\n",
    "# following:\n",
    "# capitalize_name(‘mendenhall’)\n",
    "# The function will return ‘MenDenhall’\n",
    "# Note: ‘mendenhall’.capitalize() returns ‘Mendenhall’ → this function grabs the whole string and\n",
    "# capitalizes the first letter of that string\n",
    "# Hint: You would index and slice your parameter string, capitalize it and put it back together\n",
    "\n",
    "def capitalize_name(name):\n",
    "    n = len(name)\n",
    "    return name[0].capitalize() + name[1:3] + name[3].capitalize() + name[4:n]\n",
    "\n",
    "print(capitalize_name('mendenhall'))\n",
    "print(capitalize_name('teinfalt'))"
   ]
  },
  {
   "cell_type": "code",
   "execution_count": 61,
   "metadata": {},
   "outputs": [
    {
     "name": "stdout",
     "output_type": "stream",
     "text": [
      "True\n",
      "True\n",
      "False\n",
      "False\n"
     ]
    }
   ],
   "source": [
    "# Exercise 7 solution\n",
    "# Write a function that accepts an integer x as it’s parameter and return True if n is within 10 of\n",
    "# either 100 or 200.\n",
    "# Note: utilize abs() which returns absolute value of a number\n",
    "# Hint:\n",
    "# Check if absolute value of (100-n) less than or equal to 10 (difference between your number\n",
    "# and a hundrad is <= 10)\n",
    "# Check if absolute value of (200-n) is less than or equal to 10 (difference between your number\n",
    "# and two hundred is <=10) \n",
    "\n",
    "def func_abs(n):\n",
    "    if abs(100-n) <= 10 or abs(200-n) <= 10:\n",
    "        return True\n",
    "    else:\n",
    "        return False\n",
    "    \n",
    "print(func_abs(90)) \n",
    "print(func_abs(110))\n",
    "print(func_abs(89))\n",
    "print(func_abs(122))\n"
   ]
  }
 ],
 "metadata": {
  "kernelspec": {
   "display_name": "Python 3",
   "language": "python",
   "name": "python3"
  },
  "language_info": {
   "codemirror_mode": {
    "name": "ipython",
    "version": 3
   },
   "file_extension": ".py",
   "mimetype": "text/x-python",
   "name": "python",
   "nbconvert_exporter": "python",
   "pygments_lexer": "ipython3",
   "version": "3.8.5"
  }
 },
 "nbformat": 4,
 "nbformat_minor": 4
}
