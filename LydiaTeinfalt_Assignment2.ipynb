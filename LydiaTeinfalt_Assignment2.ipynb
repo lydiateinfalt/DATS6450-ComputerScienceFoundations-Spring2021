{
 "cells": [
  {
   "cell_type": "code",
   "execution_count": 1,
   "metadata": {},
   "outputs": [
    {
     "name": "stdout",
     "output_type": "stream",
     "text": [
      "Enter the day number: 3\n",
      "Enter the month number: 12\n",
      "Enter the year: 1989\n",
      "The date is 12/3/1989 or December 3, 1989.\n"
     ]
    }
   ],
   "source": [
    "# Lydia Teinfalt (DATS 6450)\n",
    "# Assignment 2 Solution\n",
    "# Exercise 1 Solution\n",
    "# Download dateconvert2.py (included in this format) and simplify this program with\n",
    "# string formatting. Modify the program to use string format method for its output. You\n",
    "# would have to modify date1 and date2 variables in the program\n",
    "\n",
    "\n",
    "# dateconvert2.py\n",
    "#     Converts day month and year numbers into two date formats\n",
    "\n",
    "def main():\n",
    "    # get the day month and year as numbers\n",
    "    day = int(input(\"Enter the day number: \"))\n",
    "    month = int(input(\"Enter the month number: \"))\n",
    "    year = int(input(\"Enter the year: \"))\n",
    "\n",
    "    #date1 = str(month)+\"/\"+str(day)+\"/\"+str(year)\n",
    "    date1 = \"\"\n",
    "    date1 =  \"{month}/{day}/{year}\".format(month= str(month), day= str(day), year= str(year))\n",
    "    months = [\"January\", \"February\", \"March\", \"April\",\n",
    "              \"May\", \"June\", \"July\", \"August\",\n",
    "              \"September\", \"October\", \"November\", \"December\"]\n",
    "    monthStr = months[month-1]\n",
    "    date2 = \"{months} {day}, {year}\".format(months = monthStr, day= str(day), year= str(year))\n",
    "\n",
    "    print(\"The date is\", date1, \"or\", date2+\".\")\n",
    "\n",
    "main()"
   ]
  },
  {
   "cell_type": "code",
   "execution_count": 2,
   "metadata": {},
   "outputs": [
    {
     "name": "stdout",
     "output_type": "stream",
     "text": [
      "This is the dollar amount each member in the family of 5 receives $374672707068686.94\n"
     ]
    }
   ],
   "source": [
    "# Exercise 2 Solution\n",
    "# Imagine that a family of five got $1873363535343434.78 in inheritance. Define cash\n",
    "# variable in your Python script and print out the dollar amount that each member of a\n",
    "# family gets to keep.\n",
    "\n",
    "inheritance=1873363535343434.78\n",
    "family_num= 5\n",
    "cash = inheritance/family_num\n",
    "\n",
    "print(\"This is the dollar amount each member in the family of 5 receives ${0:0.2f}\".format(cash))"
   ]
  },
  {
   "cell_type": "code",
   "execution_count": 3,
   "metadata": {},
   "outputs": [
    {
     "name": "stdout",
     "output_type": "stream",
     "text": [
      "['Lydia', 1.1, 18, 'Teinfalt', -1, 1, 2, 3, 4, 5, 6, 7, 8, 9, 10, 11, 12, 13, 14, 15, 16, 17, 18, 19, 20, 21, 22, 23, 24, 25, 26, 27, 28, 29, 30, 31, 32, 33, 34, 35, 36, 37, 38, 39, 40, 41, 42, 43, 44, 45, 46, 47, 48, 49, 50, 51, 52, 53, 54, 55, 56, 57, 58, 59, 60, 61, 62, 63, 64, 65, 66, 67, 68, 69, 70, 71, 72, 73, 74, 75, 76, 77, 78, 79, 80, 81, 82, 83, 84, 85, 86, 87, 88, 89, 90, 91, 92, 93, 94, 95, 96, 97, 98, 99]\n"
     ]
    }
   ],
   "source": [
    "# Exercise 3 (10 points)\n",
    "# Define a list called student_code. It must be at least 4 elements long. You can put any\n",
    "# data in that variable, but it must contain at least 1 string and 1 float. Next define\n",
    "# another list and call it numbers. It should be list containing all numbers between 1 and\n",
    "# 99 (include 99). Print out both lists - student_code and numbers\n",
    "student_code = [\"Lydia\", 1.1, 18, \"Teinfalt\", -1]\n",
    "ls = []\n",
    "for i in range(1,100):\n",
    "    ls += [i]\n",
    "numbers = []\n",
    "numbers = student_code + ls\n",
    "print(numbers)"
   ]
  },
  {
   "cell_type": "code",
   "execution_count": 4,
   "metadata": {},
   "outputs": [
    {
     "name": "stdout",
     "output_type": "stream",
     "text": [
      "How many pounds of coffee would you like? 9\n",
      "The total amount of order including shipping $103.74\n"
     ]
    }
   ],
   "source": [
    "# Exercise 4 (10 points)\n",
    "# A coffee shop sells coffee at $10.50 a pound plus the cost of shipping. Each order ships\n",
    "# for $0.86 per pound + $1.50 fixed cost for overhead. Write a program that calculates the\n",
    "# cost of the order.\n",
    "# Hint: calculate cost of coffee  10.5 * how much coffee you want\n",
    "# Calculate shipping  0.86 * how much coffee you want + 1.5\n",
    "\n",
    "def order_cost(n):\n",
    "    coffee_cost = 10.5 * n\n",
    "    shipping_cost = 0.86 * n + 1.5\n",
    "    total = coffee_cost + shipping_cost\n",
    "    return total\n",
    "\n",
    "def main():\n",
    "    coffee_amount = int(input(\"How many pounds of coffee would you like? \"))\n",
    "    total_cost = order_cost(coffee_amount)\n",
    "    print(\"The total amount of order including shipping ${0:0.2f}\".format(total_cost))\n",
    "\n",
    "main()\n"
   ]
  },
  {
   "cell_type": "code",
   "execution_count": null,
   "metadata": {},
   "outputs": [],
   "source": [
    "# Exercise 5 (20 points)\n",
    "# Write a program that acts like an interactive Python calculator program. The program\n",
    "# should allow the user to type a mathematical expression, and then print the value of the\n",
    "# expression. Include a loop so that the user can perform many calculations (up to 100).\n",
    "print(\"Welcome to the interactive Python calculator program.\")\n",
    "for i in range(0, 101):\n",
    "    print(i)\n",
    "    print(eval(input(\"Enter mathematical expression to be evaluated:\")))"
   ]
  }
 ],
 "metadata": {
  "kernelspec": {
   "display_name": "Python 3",
   "language": "python",
   "name": "python3"
  },
  "language_info": {
   "codemirror_mode": {
    "name": "ipython",
    "version": 3
   },
   "file_extension": ".py",
   "mimetype": "text/x-python",
   "name": "python",
   "nbconvert_exporter": "python",
   "pygments_lexer": "ipython3",
   "version": "3.8.5"
  }
 },
 "nbformat": 4,
 "nbformat_minor": 4
}
