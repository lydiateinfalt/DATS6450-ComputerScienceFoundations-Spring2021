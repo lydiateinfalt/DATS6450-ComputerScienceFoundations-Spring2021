{
<<<<<<< HEAD
 "cells": [
  {
   "cell_type": "markdown",
   "metadata": {
    "id": "lFIY9ewnyfqH"
   },
   "source": [
    "Lydia Teinfalt\n",
    "Assignment 3 Solution\n",
    "DATS 6450 Spring 2021\n"
   ]
  },
  {
   "cell_type": "code",
   "execution_count": null,
   "metadata": {
    "colab": {
     "base_uri": "https://localhost:8080/"
    },
    "id": "9KsQkT5Sp6XB",
    "outputId": "25f49aec-123f-4d7d-d2af-d865206a8f32"
   },
   "outputs": [
    {
     "name": "stdout",
     "output_type": "stream",
     "text": [
      "Second is greater\n",
      "Second is greater\n",
      "First is greater\n"
     ]
    }
   ],
   "source": [
    "#Solution Exercise 1\n",
    "def num_compare(num1, num2):\n",
    "  if num1 > num2:\n",
    "    print(\"First is greater\")\n",
    "  elif num2 > num1:\n",
    "    print(\"Second is greater\")\n",
    "  else: \n",
    "    print(\"Numbers are equal\")\n",
    "\n",
    "num_compare(9,99)\n",
    "num_compare(-9,99.9)\n",
    "num_compare(9.8, 9.7)\n",
    "\n"
   ]
  },
  {
   "cell_type": "code",
   "execution_count": null,
   "metadata": {
    "colab": {
     "base_uri": "https://localhost:8080/"
    },
    "id": "H52ZET0xygUm",
    "outputId": "40a3f7fd-270f-40a2-8725-15152c7ea7e7"
   },
   "outputs": [
    {
     "name": "stdout",
     "output_type": "stream",
     "text": [
      "The input list is [2, 3, 4, 5, 6] and the product of even numbers = 8\n"
     ]
    }
   ],
   "source": [
    "#Solution Exercise 2\n",
    "def multiply_even_nums(l1):\n",
    "  sum_product = 1\n",
    "  for i in range(0, len(l1)-1):\n",
    "    if l1[i] % 2 == 0:\n",
    "      sum_product = sum_product * l1[i]\n",
    "  return sum_product\n",
    "\n",
    "test_list = [2,3,4,5,6]\n",
    "output = multiply_even_nums(test_list)\n",
    "print(\"The input list is {l} and the product of even numbers = {s}\".format(l=test_list, s = output))"
   ]
  },
  {
   "cell_type": "code",
   "execution_count": null,
   "metadata": {
    "colab": {
     "base_uri": "https://localhost:8080/"
    },
    "id": "Kg9UmTZg8Jmn",
    "outputId": "3e98f5db-f06e-4965-aacc-3cdfe508c758"
   },
   "outputs": [
    {
     "name": "stdout",
     "output_type": "stream",
     "text": [
      "The first list is ['a', 'b', 'z'], the second list is ['x', 'y', 'z'], and the list with values in both = ['z']\n",
      "The first list is [1, 2, 3, 'Amir'], the second list is ['Amir', 5, 6, -9, 1], and the list with values in both = [1, 'Amir']\n"
     ]
    }
   ],
   "source": [
    "#Solution Exercise 3: Write a function that accepts two lists and returns a list of of values in both lists\n",
    "\n",
    "def list_intersection(l1, l2):\n",
    "  return [item for item in l1 if item in l2]\n",
    "\n",
    "my_list1=['a', 'b', 'z']\n",
    "my_list2=['x', 'y', 'z']\n",
    "both_list = list_intersection(my_list1, my_list2)\n",
    "print(\"The first list is {x}, the second list is {y}, and the list with values in both = {z}\".format(x=my_list1, y= my_list2, z = both_list))\n",
    "\n",
    "list_n = [1,2,3,'Amir']\n",
    "list_m = ['Amir', 5,6,-9,1]\n",
    "common_list = list_intersection(list_n, list_m)\n",
    "print(\"The first list is {x}, the second list is {y}, and the list with values in both = {z}\".format(x=list_n, y= list_m, z = common_list))"
   ]
  },
  {
   "cell_type": "code",
   "execution_count": 19,
   "metadata": {
    "colab": {
     "base_uri": "https://localhost:8080/"
    },
    "id": "-o-CPQEhAFek",
    "outputId": "09e8702f-2b86-438d-ee7b-c365d08c3ed2"
   },
   "outputs": [
    {
     "name": "stdout",
     "output_type": "stream",
     "text": [
      "[4, 25, 49, 64]\n"
     ]
    }
   ],
   "source": [
    "#Solution Exercise 4: squareEach(nums) where nums is a list of numbers. Modifies the list by squaring each number.\n",
    "\n",
    "def squareEach(l1):\n",
    "  new_list = []\n",
    "  for i in range(0, len(l1)):\n",
    "      new_list += [l1[i]* l1[i]]\n",
    "  return new_list\n",
    "\n",
    "print(squareEach([2,5,7,8]))\n",
    "\n"
   ]
  },
  {
   "cell_type": "code",
   "execution_count": 26,
   "metadata": {
    "colab": {
     "base_uri": "https://localhost:8080/"
    },
    "id": "2ebH-Si44EKW",
    "outputId": "25df7874-c68b-4a40-d883-7001505d0bf0"
   },
   "outputs": [
    {
     "name": "stdout",
     "output_type": "stream",
     "text": [
      "Sum: 20.0\n",
      "Sum of list of floats: 905.9780000000001\n"
     ]
    }
   ],
   "source": [
    "#Solution Exercise 5: sumList(nums) nums is a list of numbers. Returns the sum of the numbers in the list.\n",
    "\n",
    "def sumList(nums):\n",
    "  sum = 0.0\n",
    "  for j in range(0, len(nums)):\n",
    "    x=float(nums[j])\n",
    "    sum = sum + x\n",
    "  return sum\n",
    "\n",
    "print(\"Sum:\", sumList([2,3,4,5,6]))\n",
    "float_list= [12.8, .178, 1.8, 782.7, 99.8, 8.7]\n",
    "print(\"Sum of list of floats:\", sumList(float_list))"
   ]
  },
  {
   "cell_type": "code",
   "execution_count": 1,
   "metadata": {
    "id": "UtxoUoqy8rf2"
   },
   "outputs": [
    {
     "name": "stdout",
     "output_type": "stream",
     "text": [
      "Please enter file name:ex8_text.txt\n",
      "\n",
      "The number of positive integers 5\n",
      "\n",
      "The number of negative integers 2\n",
      "\n",
      "The number of zeroes 1\n"
     ]
    }
   ],
   "source": [
    "#Solution Exercise 6: Rewrite our in-class Lab 5 Exercise #5 (sentinel loop using break statement), \n",
    "# to NOT use break statement. Do not change the behavior of this program\n",
    "def main():\n",
    "    neg_count = 0\n",
    "    zero_count = 0\n",
    "    pos_count = 0\n",
    "    fileName = input(\"Please enter file name:\")\n",
    "    infile = open(fileName,'r')\n",
    "    line = infile.readline()\n",
    "    while line != \"\":\n",
    "        x = int(line)\n",
    "        if x < 0:\n",
    "            neg_count = neg_count + 1\n",
    "        elif x == 0:\n",
    "            zero_count = zero_count + 1\n",
    "        else:\n",
    "            pos_count = pos_count + 1\n",
    "        line = infile.readline()\n",
    "    print(\"\\nThe number of positive integers\", pos_count)\n",
    "    print(\"\\nThe number of negative integers\", neg_count)\n",
    "    print(\"\\nThe number of zeroes\", zero_count)\n",
    "\n",
    "main()"
   ]
  }
 ],
 "metadata": {
  "colab": {
   "collapsed_sections": [],
   "name": "LydiaTeinfalt_Assignment3.ipynb",
   "provenance": []
  },
  "kernelspec": {
   "display_name": "Python 3",
   "language": "python",
   "name": "python3"
  },
  "language_info": {
   "codemirror_mode": {
    "name": "ipython",
    "version": 3
   },
   "file_extension": ".py",
   "mimetype": "text/x-python",
   "name": "python",
   "nbconvert_exporter": "python",
   "pygments_lexer": "ipython3",
   "version": "3.8.5"
  }
 },
 "nbformat": 4,
 "nbformat_minor": 1
}
=======
  "nbformat": 4,
  "nbformat_minor": 0,
  "metadata": {
    "colab": {
      "name": "LydiaTeinfalt_Assignment3.ipynb",
      "provenance": [],
      "authorship_tag": "ABX9TyPoDlfAM84vbiuCcGfFdS2j",
      "include_colab_link": true
    },
    "kernelspec": {
      "name": "python3",
      "display_name": "Python 3"
    }
  },
  "cells": [
    {
      "cell_type": "markdown",
      "metadata": {
        "id": "view-in-github",
        "colab_type": "text"
      },
      "source": [
        "<a href=\"https://colab.research.google.com/github/lydiateinfalt/DATS6450-ComputerScienceFoundations-Spring2021/blob/master/LydiaTeinfalt_Assignment3.ipynb\" target=\"_parent\"><img src=\"https://colab.research.google.com/assets/colab-badge.svg\" alt=\"Open In Colab\"/></a>"
      ]
    },
    {
      "cell_type": "markdown",
      "metadata": {
        "id": "lFIY9ewnyfqH"
      },
      "source": [
        "Lydia Teinfalt\r\n",
        "Assignment 3 Solution\r\n",
        "DATS 6450 Spring 2021\r\n"
      ]
    },
    {
      "cell_type": "code",
      "metadata": {
        "colab": {
          "base_uri": "https://localhost:8080/"
        },
        "id": "9KsQkT5Sp6XB",
        "outputId": "25f49aec-123f-4d7d-d2af-d865206a8f32"
      },
      "source": [
        "#Solution Exercise 1\r\n",
        "def num_compare(num1, num2):\r\n",
        "  if num1 > num2:\r\n",
        "    print(\"First is greater\")\r\n",
        "  elif num2 > num1:\r\n",
        "    print(\"Second is greater\")\r\n",
        "  else: \r\n",
        "    print(\"Numbers are equal\")\r\n",
        "\r\n",
        "num_compare(9,99)\r\n",
        "num_compare(-9,99.9)\r\n",
        "num_compare(9.8, 9.7)\r\n",
        "\r\n"
      ],
      "execution_count": 3,
      "outputs": [
        {
          "output_type": "stream",
          "text": [
            "Second is greater\n",
            "Second is greater\n",
            "First is greater\n"
          ],
          "name": "stdout"
        }
      ]
    },
    {
      "cell_type": "code",
      "metadata": {
        "colab": {
          "base_uri": "https://localhost:8080/"
        },
        "id": "H52ZET0xygUm",
        "outputId": "40a3f7fd-270f-40a2-8725-15152c7ea7e7"
      },
      "source": [
        "#Solution Exercise 2\r\n",
        "def multiply_even_nums(l1):\r\n",
        "  sum_product = 1\r\n",
        "  for i in range(0, len(l1)-1):\r\n",
        "    if l1[i] % 2 == 0:\r\n",
        "      sum_product = sum_product * l1[i]\r\n",
        "  return sum_product\r\n",
        "\r\n",
        "test_list = [2,3,4,5,6]\r\n",
        "output = multiply_even_nums(test_list)\r\n",
        "print(\"The input list is {l} and the product of even numbers = {s}\".format(l=test_list, s = output))"
      ],
      "execution_count": 10,
      "outputs": [
        {
          "output_type": "stream",
          "text": [
            "The input list is [2, 3, 4, 5, 6] and the product of even numbers = 8\n"
          ],
          "name": "stdout"
        }
      ]
    },
    {
      "cell_type": "code",
      "metadata": {
        "colab": {
          "base_uri": "https://localhost:8080/"
        },
        "id": "Kg9UmTZg8Jmn",
        "outputId": "3e98f5db-f06e-4965-aacc-3cdfe508c758"
      },
      "source": [
        "#Solution Exercise 3: Write a function that accepts two lists and returns a list of of values in both lists\r\n",
        "\r\n",
        "def list_intersection(l1, l2):\r\n",
        "  return [item for item in l1 if item in l2]\r\n",
        "\r\n",
        "my_list1=['a', 'b', 'z']\r\n",
        "my_list2=['x', 'y', 'z']\r\n",
        "both_list = list_intersection(my_list1, my_list2)\r\n",
        "print(\"The first list is {x}, the second list is {y}, and the list with values in both = {z}\".format(x=my_list1, y= my_list2, z = both_list))\r\n",
        "\r\n",
        "list_n = [1,2,3,'Amir']\r\n",
        "list_m = ['Amir', 5,6,-9,1]\r\n",
        "common_list = list_intersection(list_n, list_m)\r\n",
        "print(\"The first list is {x}, the second list is {y}, and the list with values in both = {z}\".format(x=list_n, y= list_m, z = common_list))"
      ],
      "execution_count": 13,
      "outputs": [
        {
          "output_type": "stream",
          "text": [
            "The first list is ['a', 'b', 'z'], the second list is ['x', 'y', 'z'], and the list with values in both = ['z']\n",
            "The first list is [1, 2, 3, 'Amir'], the second list is ['Amir', 5, 6, -9, 1], and the list with values in both = [1, 'Amir']\n"
          ],
          "name": "stdout"
        }
      ]
    },
    {
      "cell_type": "code",
      "metadata": {
        "id": "-o-CPQEhAFek"
      },
      "source": [
        "#Solution Exercise 4: squareEach(nums) where nums is a list of numbers. Modifies the list by squaring each number.\r\n"
      ],
      "execution_count": null,
      "outputs": []
    }
  ]
}
>>>>>>> 3a6a7f28ef23958aae0faefdb8667870b4e3a713
