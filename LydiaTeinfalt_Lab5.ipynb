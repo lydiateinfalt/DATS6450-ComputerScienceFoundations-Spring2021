{
 "cells": [
  {
   "cell_type": "markdown",
   "metadata": {
    "id": "ydv8m6zpzzHL"
   },
   "source": [
    "Lydia Teinfalt\n",
    "DATS 6450 Spring 2021\n",
    "Solution\n",
    "Lab 5\n"
   ]
  },
  {
   "cell_type": "code",
   "execution_count": 5,
   "metadata": {
    "colab": {
     "base_uri": "https://localhost:8080/"
    },
    "id": "iXYN4fCd0FGf",
    "outputId": "1271b8fd-0d76-4921-808f-c1285cdcd5e0"
   },
   "outputs": [
    {
     "name": "stdout",
     "output_type": "stream",
     "text": [
      "Please enter a sentence to be parsed:no words with the letter\n"
     ]
    }
   ],
   "source": [
    "#Solution Exercise 1\n",
    "def s_words(text):\n",
    "  text_list=user_input.split()\n",
    "  for word in text_list:\n",
    "    if word[0].lower() == \"s\":\n",
    "      print(word)\n",
    "user_input=str(input(\"Please enter a sentence to be parsed:\"))\n",
    "s_words(user_input)\n",
    "\n"
   ]
  },
  {
   "cell_type": "code",
   "execution_count": 6,
   "metadata": {
    "colab": {
     "base_uri": "https://localhost:8080/"
    },
    "id": "LoTMCDUL5pyS",
    "outputId": "cb3cc30f-3378-4210-d974-9c7a92a544a2"
   },
   "outputs": [
    {
     "name": "stdout",
     "output_type": "stream",
     "text": [
      "Would you like to print (type p) or exit without printing? p\n",
      "Enter p or q:p\n",
      "Hello\n",
      "Enter p or q:q\n"
     ]
    }
   ],
   "source": [
    "#Solution Exercise 2\n",
    "\n",
    "menu = str(input(\"Would you like to print (type p) or exit without printing? \"))\n",
    "while menu == \"p\":\n",
    "  menu = str(input(\"Enter p or q:\"))\n",
    "  if menu == \"p\":\n",
    "    print(\"Hello\")\n",
    "  elif menu == \"q\":\n",
    "    break\n",
    "  \n",
    "\n"
   ]
  },
  {
   "cell_type": "code",
   "execution_count": 8,
   "metadata": {
    "colab": {
     "base_uri": "https://localhost:8080/"
    },
    "id": "IXjG66hjF3fc",
    "outputId": "e079f3d1-aa1c-435f-b8ef-2febb85a7e22"
   },
   "outputs": [
    {
     "name": "stdout",
     "output_type": "stream",
     "text": [
      "Type in your age: 44\n",
      "You are good to enter and can drink!\n"
     ]
    }
   ],
   "source": [
    "#Solution Exercise 3\n",
    "user_age=input(\"Type in your age: \")\n",
    "if user_age :\n",
    "  int_age = int(user_age)\n",
    "  if int_age >= 18 and int_age < 21:\n",
    "    print(\"You can walk in our venue, but you need a wristband!\")\n",
    "  elif int_age >= 21:\n",
    "    print(\"You are good to enter and can drink!\")\n",
    "  else:\n",
    "    print(\"You cannot come in!\")\n",
    "else:\n",
    "    print(\"Please enter your age!\")\n"
   ]
  },
  {
   "cell_type": "code",
   "execution_count": 59,
   "metadata": {
    "colab": {
     "base_uri": "https://localhost:8080/"
    },
    "id": "RGT-k5QPLRTJ",
    "outputId": "df0b3faa-1fe0-4a04-d5b1-61e9d0a4d395"
   },
   "outputs": [
    {
     "name": "stdout",
     "output_type": "stream",
     "text": [
      "1\n",
      "2\n",
      "fizz\n",
      "4\n",
      "buzz\n",
      "fizz\n",
      "7\n",
      "8\n",
      "fizz\n",
      "buzz\n",
      "11\n",
      "fizz\n",
      "13\n",
      "14\n",
      "fizzbuzz\n",
      "16\n",
      "17\n",
      "fizz\n",
      "19\n",
      "buzz\n",
      "fizz\n",
      "22\n",
      "23\n",
      "fizz\n",
      "buzz\n",
      "26\n",
      "fizz\n",
      "28\n",
      "29\n",
      "fizzbuzz\n",
      "31\n",
      "32\n",
      "fizz\n",
      "34\n",
      "buzz\n",
      "fizz\n",
      "37\n",
      "38\n",
      "fizz\n",
      "buzz\n",
      "41\n",
      "fizz\n",
      "43\n",
      "44\n",
      "fizzbuzz\n",
      "46\n",
      "47\n",
      "fizz\n",
      "49\n",
      "buzz\n",
      "fizz\n",
      "52\n",
      "53\n",
      "fizz\n",
      "buzz\n",
      "56\n",
      "fizz\n",
      "58\n",
      "59\n",
      "fizzbuzz\n",
      "61\n",
      "62\n",
      "fizz\n",
      "64\n",
      "buzz\n",
      "fizz\n",
      "67\n",
      "68\n",
      "fizz\n",
      "buzz\n",
      "71\n",
      "fizz\n",
      "73\n",
      "74\n",
      "fizzbuzz\n",
      "76\n",
      "77\n",
      "fizz\n",
      "79\n",
      "buzz\n",
      "fizz\n",
      "82\n",
      "83\n",
      "fizz\n",
      "buzz\n",
      "86\n",
      "fizz\n",
      "88\n",
      "89\n",
      "fizzbuzz\n",
      "91\n",
      "92\n",
      "fizz\n",
      "94\n",
      "buzz\n",
      "fizz\n",
      "97\n",
      "98\n",
      "fizz\n",
      "buzz\n"
     ]
    }
   ],
   "source": [
    "# Solution Exercise 4\n",
    "for i in range(1,101):\n",
    "  if i % 3 == 0 and i % 5 == 0:\n",
    "    print(\"fizzbuzz\")\n",
    "  elif i % 3 == 0:\n",
    "    print(\"fizz\")\n",
    "  elif i % 5 == 0:\n",
    "    print(\"buzz\")\n",
    "  else:\n",
    "    print(i)\n",
    "\n"
   ]
  },
  {
   "cell_type": "code",
   "execution_count": null,
   "metadata": {
    "colab": {
     "base_uri": "https://localhost:8080/"
    },
    "id": "TFZ41AjLR5BB",
    "outputId": "736be518-d74d-4d48-ad2c-152d582726f2"
   },
   "outputs": [],
   "source": [
    "#Solution Exercise 5\n",
    "def main():\n",
    "    sum = 0.0\n",
    "    neg_count = 0\n",
    "    zero_count = 0\n",
    "    pos_count = 0\n",
    "    xStr = input(\"Enter a number (<Enter> to quit) >> \")\n",
    "    while True:\n",
    "        if xStr == \"\":\n",
    "          break\n",
    "        else:\n",
    "          x = int(xStr)\n",
    "          if x < 0:\n",
    "            neg_count = neg_count + 1\n",
    "          elif x == 0:\n",
    "            zero_count = zero_count + 1\n",
    "          else:\n",
    "            pos_count = pos_count + 1\n",
    "        xStr = input(\"Enter a number (<Enter> to quit) >> \")\n",
    "    print(\"\\nThe number of positive integers:\", pos_count)\n",
    "    print(\"\\nThe number of negative integers:\", neg_count)\n",
    "    print(\"\\nThe number of zeroes:\", zero_count)\n",
    "main()"
   ]
  },
  {
   "cell_type": "code",
   "execution_count": 3,
   "metadata": {
    "colab": {
     "base_uri": "https://localhost:8080/",
     "height": 543
    },
    "id": "n-PCCTXkOETX",
    "outputId": "38cfdb23-7553-489b-fba3-abf706f26da0"
   },
   "outputs": [
    {
     "name": "stdout",
     "output_type": "stream",
     "text": [
      "Please enter file name:ex8_text.txt\n",
      "\n",
      "The number of positive integers 5\n",
      "\n",
      "The number of negative integers 2\n",
      "\n",
      "The number of zeroes 1\n"
     ]
    }
   ],
   "source": [
    "#Solution Exercise 6\n",
    "def main():\n",
    "    neg_count = 0\n",
    "    zero_count = 0\n",
    "    pos_count = 0\n",
    "    fileName = input(\"Please enter file name:\")\n",
    "    infile = open(fileName,'r')\n",
    "    while True:\n",
    "        line = infile.readline()\n",
    "        if line == \"\":\n",
    "            break\n",
    "        else:\n",
    "            x = int(line)\n",
    "            if x < 0:\n",
    "                neg_count = neg_count + 1\n",
    "            elif x == 0:\n",
    "                zero_count = zero_count + 1\n",
    "            else:\n",
    "              pos_count = pos_count + 1\n",
    "    print(\"\\nThe number of positive integers\", pos_count)\n",
    "    print(\"\\nThe number of negative integers\", neg_count)\n",
    "    print(\"\\nThe number of zeroes\", zero_count)\n",
    "\n",
    "main()"
   ]
  }
 ],
 "metadata": {
  "colab": {
   "collapsed_sections": [],
   "name": "LydiaTeinfalt_Lab5.ipynb",
   "provenance": []
  },
  "kernelspec": {
   "display_name": "Python 3",
   "language": "python",
   "name": "python3"
  },
  "language_info": {
   "codemirror_mode": {
    "name": "ipython",
    "version": 3
   },
   "file_extension": ".py",
   "mimetype": "text/x-python",
   "name": "python",
   "nbconvert_exporter": "python",
   "pygments_lexer": "ipython3",
   "version": "3.8.5"
  }
 },
 "nbformat": 4,
 "nbformat_minor": 1
}
